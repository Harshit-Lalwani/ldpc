{
 "cells": [
  {
   "cell_type": "markdown",
   "metadata": {},
   "source": [
    "# Parity check matrices\n",
    "\n",
    "In LDPC, binary linear error correction codes are represented in terms of their parity check matrix stored in `scipy.sparse` format. As an example, the parity check matrix for the repetition code can be loaded from the `ldpc.codes` submodule as follows:"
   ]
  },
  {
   "cell_type": "code",
   "execution_count": 38,
   "metadata": {},
   "outputs": [
    {
     "name": "stdout",
     "output_type": "stream",
     "text": [
      "  (0, 0)\t1\n",
      "  (0, 1)\t1\n",
      "  (1, 1)\t1\n",
      "  (1, 2)\t1\n",
      "  (2, 2)\t1\n",
      "  (2, 3)\t1\n",
      "  (3, 3)\t1\n",
      "  (3, 4)\t1\n"
     ]
    }
   ],
   "source": [
    "import numpy as np\n",
    "import ldpc.codes\n",
    "n=5 #specifies the lenght of the repetition code\n",
    "H=ldpc.codes.rep_code(n) #returns the repetition code parity check matrix\n",
    "print(H)"
   ]
  },
  {
   "cell_type": "markdown",
   "metadata": {},
   "source": [
    "The above print statement displays a list of the coordinates for the nonzero elements of the parity check matrix. To print the matrix in a more readable form, the `np.ndarray.toarray()` method can be used."
   ]
  },
  {
   "cell_type": "code",
   "execution_count": 39,
   "metadata": {},
   "outputs": [
    {
     "name": "stdout",
     "output_type": "stream",
     "text": [
      "[[1 1 0 0 0]\n",
      " [0 1 1 0 0]\n",
      " [0 0 1 1 0]\n",
      " [0 0 0 1 1]]\n"
     ]
    }
   ],
   "source": [
    "print(H.toarray())"
   ]
  },
  {
   "cell_type": "markdown",
   "metadata": {},
   "source": [
    "## Computing code properties\n",
    "To compute the [n,k,d] code parameters we can use functions from the `ldpc.mod2` and `ldpc.code_util` submodules. Below is an example showing how to calculate the code parameters of the Hamming code:"
   ]
  },
  {
   "cell_type": "code",
   "execution_count": 40,
   "metadata": {},
   "outputs": [
    {
     "name": "stdout",
     "output_type": "stream",
     "text": [
      "[[0 0 0 1 1 1 1]\n",
      " [0 1 1 0 0 1 1]\n",
      " [1 0 1 0 1 0 1]]\n"
     ]
    }
   ],
   "source": [
    "H = ldpc.codes.hamming_code(3)\n",
    "print(H.toarray())"
   ]
  },
  {
   "cell_type": "markdown",
   "metadata": {},
   "source": [
    "### Number of physical bits\n",
    "\n",
    "The number of physical bits $n$ is simply the number of columns in the parity check matrix:"
   ]
  },
  {
   "cell_type": "code",
   "execution_count": 41,
   "metadata": {},
   "outputs": [
    {
     "name": "stdout",
     "output_type": "stream",
     "text": [
      "Number of physical bits, n = 7\n"
     ]
    }
   ],
   "source": [
    "n = H.shape[1]\n",
    "print(f\"Number of physical bits, n = {n}\")"
   ]
  },
  {
   "cell_type": "markdown",
   "metadata": {},
   "source": [
    "### Code dimension (number of logical bits)\n",
    "\n",
    "The number of logical bits $k$ can be obtained using the `ldpc.code_util.compute_code_dimension` function."
   ]
  },
  {
   "cell_type": "code",
   "execution_count": 42,
   "metadata": {},
   "outputs": [
    {
     "name": "stdout",
     "output_type": "stream",
     "text": [
      "Number of logical bits, k = 4\n"
     ]
    }
   ],
   "source": [
    "k = ldpc.code_util.compute_code_dimension(H)\n",
    "print(f\"Number of logical bits, k = {k}\")"
   ]
  },
  {
   "cell_type": "markdown",
   "metadata": {},
   "source": [
    "### Code distance\n",
    "\n",
    "An estimate of the code distance $d$ can be obtained using the `ldpc.code_util.estimate_min_distance` function. This function first computes the kernel, then iterates over random linear combinations of the rows to find low weight codewords. By default, the function runs for $0.025s$. This can be change by setting the `timeout_seconds` parameter."
   ]
  },
  {
   "cell_type": "code",
   "execution_count": 43,
   "metadata": {},
   "outputs": [
    {
     "name": "stdout",
     "output_type": "stream",
     "text": [
      "Code distance estimate, d <= 3 (no. codewords sampled: 378223)\n"
     ]
    }
   ],
   "source": [
    "d, number_code_words_sampled, lowest_weight_codewords = ldpc.code_util.estimate_min_distance(H, timeout_seconds = 0.1)\n",
    "print(f\"Code distance estimate, d <= {d} (no. codewords sampled: {number_code_words_sampled})\")"
   ]
  },
  {
   "cell_type": "markdown",
   "metadata": {},
   "source": [
    "From the above, we see that the Hamming code has $n=7$ physical bits, $k=4$ logical bits, and $d<=3$. The $[n,k,d]$ parameters can be calculated more directly for any parity check matrix using the `ldpc.code_util.compute_code_parameters` function. For example, we can compute the code parameters of the rank $5$ Hamming code as follows:"
   ]
  },
  {
   "cell_type": "code",
   "execution_count": 47,
   "metadata": {},
   "outputs": [
    {
     "name": "stdout",
     "output_type": "stream",
     "text": [
      "Code parameters: [n = 31, k = 26, d <= 3]\n"
     ]
    }
   ],
   "source": [
    "H = ldpc.codes.hamming_code(5) # Rank 5 Hamming Code\n",
    "n, k, d_estimate = ldpc.code_util.compute_code_parameters(H)\n",
    "\n",
    "print(f\"Code parameters: [n = {n}, k = {k}, d <= {d_estimate}]\")"
   ]
  },
  {
   "cell_type": "markdown",
   "metadata": {},
   "source": [
    "### Code parameter calculation: LDPC code example"
   ]
  },
  {
   "cell_type": "code",
   "execution_count": 48,
   "metadata": {},
   "outputs": [
    {
     "name": "stdout",
     "output_type": "stream",
     "text": [
      "Code parameters: [n = 14, k = 5, d <= 5]\n"
     ]
    }
   ],
   "source": [
    "H = H = np.array([[0, 0, 0, 1, 0, 0, 0, 1, 0, 0, 1, 0, 0, 0],\n",
    "       [0, 0, 0, 0, 0, 0, 0, 0, 0, 0, 0, 1, 1, 0],\n",
    "       [1, 0, 0, 0, 0, 0, 0, 0, 0, 1, 0, 0, 1, 1],\n",
    "       [1, 0, 0, 0, 0, 1, 0, 1, 0, 0, 0, 0, 0, 0],\n",
    "       [0, 0, 1, 0, 0, 1, 0, 0, 0, 1, 1, 0, 0, 0],\n",
    "       [0, 0, 0, 0, 0, 1, 1, 0, 0, 1, 1, 1, 0, 0],\n",
    "       [1, 0, 0, 0, 1, 0, 1, 0, 0, 0, 1, 0, 0, 0],\n",
    "       [1, 0, 0, 0, 0, 0, 0, 0, 1, 0, 1, 0, 0, 0],\n",
    "       [0, 1, 0, 0, 0, 0, 0, 0, 1, 0, 1, 1, 0, 0]])\n",
    "\n",
    "n, k, d_estimate = ldpc.code_util.compute_code_parameters(H)\n",
    "print(f\"Code parameters: [n = {n}, k = {k}, d <= {d_estimate}]\")"
   ]
  },
  {
   "cell_type": "markdown",
   "metadata": {},
   "source": []
  }
 ],
 "metadata": {
  "interpreter": {
   "hash": "3b13851432b22d6f1e5694c9da7f80ec6c6b2b7f955aecf4f28cb697779c3947"
  },
  "kernelspec": {
   "display_name": "Python 3.7.11 64-bit ('ldpc': conda)",
   "name": "python3"
  },
  "language_info": {
   "codemirror_mode": {
    "name": "ipython",
    "version": 3
   },
   "file_extension": ".py",
   "mimetype": "text/x-python",
   "name": "python",
   "nbconvert_exporter": "python",
   "pygments_lexer": "ipython3",
   "version": "3.9.12"
  }
 },
 "nbformat": 4,
 "nbformat_minor": 4
}
