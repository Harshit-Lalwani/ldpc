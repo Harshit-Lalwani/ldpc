{
 "cells": [
  {
   "cell_type": "markdown",
   "metadata": {},
   "source": [
    "# Parity check matrices\n",
    "\n",
    "In LDPC error correction codes are represented in terms of their parity check matrix stored in `scipy.sparse` format. As an example, the parity check matrix for the repetition code can be loaded from the `ldpc.codes` submodule as follows:"
   ]
  },
  {
   "cell_type": "code",
   "execution_count": 1,
   "metadata": {},
   "outputs": [
    {
     "name": "stdout",
     "output_type": "stream",
     "text": [
      "[[1 1 0 0 0]\n",
      " [0 1 1 0 0]\n",
      " [0 0 1 1 0]\n",
      " [0 0 0 1 1]]\n"
     ]
    }
   ],
   "source": [
    "import numpy as np\n",
    "from ldpc.codes import rep_code\n",
    "n=5 #specifies the lenght of the repetition code\n",
    "H=rep_code(n) #returns the repetition code parity check matrix\n",
    "print(H.toarray())"
   ]
  },
  {
   "cell_type": "markdown",
   "metadata": {},
   "source": [
    "To compute the [n,k,d] code parameters we can use functions from the `ldpc.mod2` and `ldpc.code_util` submodules. Below is an example showing how to calculate the code parameters of the Hamming code:"
   ]
  },
  {
   "cell_type": "code",
   "execution_count": 2,
   "metadata": {},
   "outputs": [
    {
     "name": "stdout",
     "output_type": "stream",
     "text": [
      "[[0 0 0 1 1 1 1]\n",
      " [0 1 1 0 0 1 1]\n",
      " [1 0 1 0 1 0 1]]\n",
      "Hamming code parameters: [n=7,k=4,d=3]\n"
     ]
    }
   ],
   "source": [
    "from ldpc.codes import hamming_code #function for generating Hamming codes\n",
    "from ldpc.mod2 import rank #function for calcuting the mod2 rank\n",
    "from ldpc.code_util import compute_code_distance #function for calculting the code distance\n",
    "\n",
    "H=hamming_code(3)\n",
    "print(H.toarray())\n",
    "n=H.shape[1] #block length of the code\n",
    "k=n-rank(H) #the dimension of the code computed using the rank-nullity theorem.\n",
    "d=compute_code_distance(H) #computes the code distance\n",
    "print(f\"Hamming code parameters: [n={n},k={k},d={d}]\")"
   ]
  },
  {
   "cell_type": "markdown",
   "metadata": {},
   "source": [
    "Note that computing the code distance quickly becomes intractable for larger parity check matrices. The `ldpc.code_util.compute_code_distance` should therefore only be used for small codes."
   ]
  },
  {
   "cell_type": "markdown",
   "metadata": {},
   "source": []
  }
 ],
 "metadata": {
  "interpreter": {
   "hash": "3b13851432b22d6f1e5694c9da7f80ec6c6b2b7f955aecf4f28cb697779c3947"
  },
  "kernelspec": {
   "display_name": "Python 3.7.11 64-bit ('ldpc': conda)",
   "name": "python3"
  },
  "language_info": {
   "codemirror_mode": {
    "name": "ipython",
    "version": 3
   },
   "file_extension": ".py",
   "mimetype": "text/x-python",
   "name": "python",
   "nbconvert_exporter": "python",
   "pygments_lexer": "ipython3",
   "version": "3.10.8"
  }
 },
 "nbformat": 4,
 "nbformat_minor": 4
}
