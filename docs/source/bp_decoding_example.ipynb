{
 "cells": [
  {
   "cell_type": "markdown",
   "metadata": {},
   "source": [
    "# Decoder setup\n",
    "\n",
    "To decode using belief propagation, first load an instance of the `ldpc.bp_decoder` class.\n"
   ]
  },
  {
   "cell_type": "code",
   "execution_count": 5,
   "metadata": {},
   "outputs": [],
   "source": [
    "import numpy as np\n",
    "from ldpc.codes import rep_code\n",
    "from ldpc import bp_decoder\n",
    "H=rep_code(3) #parity check matrix for the length-3 repetition code\n",
    "n=H.shape[1] #the codeword length\n",
    "\n",
    "bpd=bp_decoder(\n",
    "    H, #the parity check matrix\n",
    "    error_rate=0.1, # the error rate on each bit\n",
    "    max_iter=n, #the maximum iteration depth for BP\n",
    "    bp_method=\"product_sum\", #BP method. The other option is `minimum_sum'\n",
    "    channel_probs=[None] #channel probability probabilities. Will overide error rate.\n",
    ")"
   ]
  },
  {
   "cell_type": "markdown",
   "metadata": {},
   "source": [
    "# Received vector decoding\n",
    "\n",
    "Given a corrupted codeword, the `bp_decoder.decode` will provide an estimate of its unerrored form. For example, consider the case where we are encoding via a three-bit repetition code:"
   ]
  },
  {
   "cell_type": "code",
   "execution_count": 6,
   "metadata": {},
   "outputs": [],
   "source": [
    "codeword=np.array([1,1,1])"
   ]
  },
  {
   "cell_type": "markdown",
   "metadata": {},
   "source": [
    "If the above codeword is subject to an error on its first bit the received vector is given by"
   ]
  },
  {
   "cell_type": "code",
   "execution_count": 7,
   "metadata": {},
   "outputs": [],
   "source": [
    "received_vector=np.array([0,1,1])"
   ]
  },
  {
   "cell_type": "markdown",
   "metadata": {},
   "source": [
    "The above vector can be corrected using the `bp_decoder.decode` as follows:"
   ]
  },
  {
   "cell_type": "code",
   "execution_count": 9,
   "metadata": {},
   "outputs": [
    {
     "name": "stdout",
     "output_type": "stream",
     "text": [
      "[0 0 1]\n",
      "auto\n"
     ]
    }
   ],
   "source": [
    "decoded_codeword=bpd.decode(received_vector)\n",
    "\n",
    "print(decoded_codeword)\n"
   ]
  },
  {
   "cell_type": "markdown",
   "metadata": {},
   "source": [
    "# Syndrome decoding\n",
    "In syndrome decoding, the error syndrome is input to `bp_decoder.decode` function. This is useful in settings where the codeword cannot be directly measured. eg. in quantum error correction. The output of the syndrome recovery is an estimate of the error."
   ]
  },
  {
   "cell_type": "code",
   "execution_count": 5,
   "metadata": {},
   "outputs": [
    {
     "name": "stdout",
     "output_type": "stream",
     "text": [
      "Error: [0 1 0]\n",
      "Syndrome: [1 1]\n",
      "Decoding: [0 1 0]\n"
     ]
    }
   ],
   "source": [
    "error=np.array([0,1,0])\n",
    "syndrome=H@error%2\n",
    "decoding=bpd.decode(syndrome)\n",
    "print(f\"Error: {error}\")\n",
    "print(f\"Syndrome: {syndrome}\")\n",
    "print(f\"Decoding: {decoding}\")"
   ]
  },
  {
   "cell_type": "markdown",
   "metadata": {},
   "source": [
    "# Assymetric error channels\n",
    "If the code bits are subject to different error rates, a channel probability vector can be provided instead of the error rate."
   ]
  },
  {
   "cell_type": "code",
   "execution_count": 6,
   "metadata": {},
   "outputs": [
    {
     "ename": "ValueError",
     "evalue": "Please specify the error channel. Either: 1) error_rate: float or 2) error_channel:            list of floats of length equal to the block length of the code {self.n}.",
     "output_type": "error",
     "traceback": [
      "\u001b[0;31m---------------------------------------------------------------------------\u001b[0m",
      "\u001b[0;31mValueError\u001b[0m                                Traceback (most recent call last)",
      "\u001b[1;32m/home/joschka/github/ldpc2/docs/source/bp_decoding_example.ipynb Cell 12\u001b[0m line \u001b[0;36m1\n\u001b[0;32m----> <a href='vscode-notebook-cell://wsl%2Bubuntu-20.04/home/joschka/github/ldpc2/docs/source/bp_decoding_example.ipynb#X14sdnNjb2RlLXJlbW90ZQ%3D%3D?line=0'>1</a>\u001b[0m bpd\u001b[39m=\u001b[39mbp_decoder(\n\u001b[1;32m      <a href='vscode-notebook-cell://wsl%2Bubuntu-20.04/home/joschka/github/ldpc2/docs/source/bp_decoding_example.ipynb#X14sdnNjb2RlLXJlbW90ZQ%3D%3D?line=1'>2</a>\u001b[0m     H, \n\u001b[1;32m      <a href='vscode-notebook-cell://wsl%2Bubuntu-20.04/home/joschka/github/ldpc2/docs/source/bp_decoding_example.ipynb#X14sdnNjb2RlLXJlbW90ZQ%3D%3D?line=2'>3</a>\u001b[0m     max_iter\u001b[39m=\u001b[39;49mn,\n\u001b[1;32m      <a href='vscode-notebook-cell://wsl%2Bubuntu-20.04/home/joschka/github/ldpc2/docs/source/bp_decoding_example.ipynb#X14sdnNjb2RlLXJlbW90ZQ%3D%3D?line=3'>4</a>\u001b[0m     bp_method\u001b[39m=\u001b[39;49m\u001b[39m\"\u001b[39;49m\u001b[39mproduct_sum\u001b[39;49m\u001b[39m\"\u001b[39;49m, \n\u001b[1;32m      <a href='vscode-notebook-cell://wsl%2Bubuntu-20.04/home/joschka/github/ldpc2/docs/source/bp_decoding_example.ipynb#X14sdnNjb2RlLXJlbW90ZQ%3D%3D?line=4'>5</a>\u001b[0m     channel_probs\u001b[39m=\u001b[39;49m[\u001b[39m0.1\u001b[39;49m,\u001b[39m0\u001b[39;49m,\u001b[39m0.1\u001b[39;49m] \u001b[39m#channel probability probabilities. Will overide error rate.\u001b[39;49;00m\n\u001b[1;32m      <a href='vscode-notebook-cell://wsl%2Bubuntu-20.04/home/joschka/github/ldpc2/docs/source/bp_decoding_example.ipynb#X14sdnNjb2RlLXJlbW90ZQ%3D%3D?line=5'>6</a>\u001b[0m )\n\u001b[1;32m      <a href='vscode-notebook-cell://wsl%2Bubuntu-20.04/home/joschka/github/ldpc2/docs/source/bp_decoding_example.ipynb#X14sdnNjb2RlLXJlbW90ZQ%3D%3D?line=7'>8</a>\u001b[0m error\u001b[39m=\u001b[39mnp\u001b[39m.\u001b[39marray([\u001b[39m1\u001b[39m,\u001b[39m0\u001b[39m,\u001b[39m1\u001b[39m])\n\u001b[1;32m      <a href='vscode-notebook-cell://wsl%2Bubuntu-20.04/home/joschka/github/ldpc2/docs/source/bp_decoding_example.ipynb#X14sdnNjb2RlLXJlbW90ZQ%3D%3D?line=8'>9</a>\u001b[0m syndrome\u001b[39m=\u001b[39mH\u001b[39m@error\u001b[39m\u001b[39m%\u001b[39m\u001b[39m2\u001b[39m\n",
      "File \u001b[0;32msrc_python/ldpc/bp_decoder/_bp_decoder.pyx:142\u001b[0m, in \u001b[0;36mldpc.bp_decoder._bp_decoder.BpDecoderBase.__cinit__\u001b[0;34m()\u001b[0m\n",
      "\u001b[0;31mValueError\u001b[0m: Please specify the error channel. Either: 1) error_rate: float or 2) error_channel:            list of floats of length equal to the block length of the code {self.n}."
     ]
    }
   ],
   "source": [
    "bpd=bp_decoder(\n",
    "    H, \n",
    "    max_iter=n,\n",
    "    bp_method=\"product_sum\", \n",
    "    channel_probs=[0.1,0,0.1] #channel probability probabilities. Will overide error rate.\n",
    ")\n",
    "\n",
    "error=np.array([1,0,1])\n",
    "syndrome=H@error%2\n",
    "decoding=bpd.decode(syndrome)\n",
    "print(f\"Error: {error}\")\n",
    "print(f\"Syndrome: {syndrome}\")\n",
    "print(f\"Decoding: {decoding}\")"
   ]
  },
  {
   "cell_type": "markdown",
   "metadata": {},
   "source": [
    "# Example: error correction over the binary symmetric channel"
   ]
  },
  {
   "cell_type": "code",
   "execution_count": 7,
   "metadata": {},
   "outputs": [
    {
     "name": "stdout",
     "output_type": "stream",
     "text": [
      "Error: [0 1 0 0 0 0 1 0 1 0 0 0 0]\n",
      "Syndrome: [1 1 0 0 0 1 1 1 1 0 0 0]\n",
      "Decoding: [0 1 0 0 0 0 1 0 1 0 0 0 0]\n",
      "\n",
      "Error: [0 1 1 0 0 1 0 0 0 1 0 0 1]\n",
      "Syndrome: [1 0 1 0 1 1 0 0 1 1 0 1]\n",
      "Decoding: [0 1 1 0 0 1 0 0 0 1 0 0 1]\n",
      "\n",
      "Error: [0 1 0 0 0 0 0 1 0 0 0 0 0]\n",
      "Syndrome: [1 1 0 0 0 0 1 1 0 0 0 0]\n",
      "Decoding: [0 1 0 0 0 0 0 1 0 0 0 0 0]\n",
      "\n",
      "Error: [0 0 0 0 0 1 0 0 0 0 0 1 1]\n",
      "Syndrome: [0 0 0 0 1 1 0 0 0 0 1 0]\n",
      "Decoding: [0 0 0 0 0 1 0 0 0 0 0 1 1]\n",
      "\n",
      "Error: [0 0 0 1 0 0 1 0 1 0 0 1 1]\n",
      "Syndrome: [0 0 1 1 0 1 1 1 1 0 1 0]\n",
      "Decoding: [0 0 0 1 0 0 1 0 1 0 0 1 1]\n",
      "\n"
     ]
    }
   ],
   "source": [
    "import numpy as np\n",
    "from ldpc.codes import rep_code\n",
    "from ldpc import bp_decoder\n",
    "\n",
    "n=13\n",
    "error_rate=0.3\n",
    "runs=5\n",
    "H=rep_code(n)\n",
    "\n",
    "#BP decoder class. Make sure this is defined outside the loop\n",
    "bpd=bp_decoder(H,error_rate=error_rate,max_iter=n,bp_method=\"product_sum\")\n",
    "error=np.zeros(n).astype(int) #error vector\n",
    "\n",
    "for _ in range(runs):\n",
    "    for i in range(n):\n",
    "        if np.random.random()<error_rate:\n",
    "            error[i]=1\n",
    "        else: error[i]=0\n",
    "    syndrome=H@error %2 #calculates the error syndrome\n",
    "    print(f\"Error: {error}\")\n",
    "    print(f\"Syndrome: {syndrome}\")\n",
    "    decoding=bpd.decode(syndrome)\n",
    "    print(f\"Decoding: {decoding}\\n\")"
   ]
  },
  {
   "cell_type": "code",
   "execution_count": null,
   "metadata": {},
   "outputs": [],
   "source": []
  }
 ],
 "metadata": {
  "interpreter": {
   "hash": "3b13851432b22d6f1e5694c9da7f80ec6c6b2b7f955aecf4f28cb697779c3947"
  },
  "kernelspec": {
   "display_name": "Python 3.7.11 64-bit ('ldpc': conda)",
   "name": "python3"
  },
  "language_info": {
   "codemirror_mode": {
    "name": "ipython",
    "version": 3
   },
   "file_extension": ".py",
   "mimetype": "text/x-python",
   "name": "python",
   "nbconvert_exporter": "python",
   "pygments_lexer": "ipython3",
   "version": "3.10.8"
  }
 },
 "nbformat": 4,
 "nbformat_minor": 4
}
