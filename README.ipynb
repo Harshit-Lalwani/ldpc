{
 "cells": [
  {
   "attachments": {},
   "cell_type": "markdown",
   "metadata": {},
   "source": [
    "# ldpc2\n",
    "\n",
    "A C++ rewrite of the `LDPC` package for decoding low density parity check checks. New features include:\n",
    "\n",
    "- A new C++ template class `gf2sparse`. This is a more flexible implementation of the `mod2sparse` data structure used in the LDPCv1. This will make it much easier to expand the package.\n",
    "- Serial (and custom) schedules for the classical BP decoder.\n",
    "- Openmp support the BP decoder.\n",
    "- An implementation of weighted union find (with Peeling and inversion solvers).\n",
    "- An implementation of belief-find (https://arxiv.org/abs/2203.04948)\n",
    "- An implementation of the Kuo and Lai memory belief propagation decoder (https://arxiv.org/abs/2104.13659)\n",
    "\n",
    "## ToDos\n",
    "\n",
    "`LDPC2` is still a work in progress. Things that still need to be done:\n",
    "- More decoders could be implemented (eg. small set-flip).\n",
    "- The LU decomposition routine needs to optimised (it is still slower than the `mod2sparse` version).\n",
    "- Functions need to be properly documented.\n",
    "- Proper test coverage is required.\n",
    "- The Peeling version of union-find only works for the Toric code. A routine for matching to the boundary needs to be implemented.\n",
    "- Soft syndrome BP (https://arxiv.org/abs/2205.02341)\n",
    "- Layered schedules (hybrid serial + parallel)\n",
    "\n",
    "## Dependencies\n",
    "\n",
    "The only dependency is `robin_set` implementation of unordered sets, /Copyright (c) 2017 Thibaut Goetghebuer-Planchon/. This is used in the union find decoder.\n",
    "\n",
    "## Python - Installation from source\n",
    "\n",
    "The C++ source code can be found in src_cpp. Python bindings are implemented using Cython and can be found in src/ldpc2. To install the Python version of the repository follows the instructions below: \n",
    "\n",
    "- Download the repo.\n",
    "- Navigate to the root.\n",
    "- Pip install with `python>=3.6`.\n",
    "Note: installation requires a `C` compiler. Eg. `gcc` on Linux or `clang` on Windows.\n",
    "\n",
    "```\n",
    "git clone git@github.com:quantumgizmos/ldpc2.git\n",
    "cd ldpc2\n",
    "pip install -Ue\n",
    "```\n",
    "\n",
    "## Installation from PyPi\n",
    "\n",
    "Not yet implemented.\n",
    "\n",
    "## C++ usage\n",
    "\n",
    "This is a header only library. The CMakeLists.txt script provides an example of how to use the header files. An example of the basic features of the `GF2sparse` data structure can be found in `cpp_examples/main.cpp`.\n",
    " "
   ]
  },
  {
   "attachments": {},
   "cell_type": "markdown",
   "metadata": {},
   "source": [
    "## Decoding the Toric code\n",
    "\n",
    "### Code construction\n",
    "\n",
    "I can construct a Toric code using the hypergraph product as follows:"
   ]
  },
  {
   "cell_type": "code",
   "execution_count": 1,
   "metadata": {},
   "outputs": [
    {
     "name": "stdout",
     "output_type": "stream",
     "text": [
      "<Unnamed CSS code>, (2,4)-[[200,2,None]]\n",
      " -Block dimensions: Pass\n",
      " -PCMs commute hz@hx.T==0: Pass\n",
      " -PCMs commute hx@hz.T==0: Pass\n",
      " -lx \\in ker{hz} AND lz \\in ker{hx}: Pass\n",
      " -lx and lz anticommute: Pass\n",
      " -<Unnamed CSS code> is a valid CSS code w/ params (2,4)-[[200,2,None]]\n"
     ]
    },
    {
     "data": {
      "text/plain": [
       "True"
      ]
     },
     "execution_count": 1,
     "metadata": {},
     "output_type": "execute_result"
    }
   ],
   "source": [
    "import numpy as np\n",
    "import scipy.sparse\n",
    "from ldpc.codes import ring_code\n",
    "from bposd.hgp import hgp\n",
    "\n",
    "D = 10\n",
    "h = ring_code(D)\n",
    "toric_code = hgp(h,h)\n",
    "toric_code.test()"
   ]
  },
  {
   "attachments": {},
   "cell_type": "markdown",
   "metadata": {},
   "source": [
    "## Monte Carlo simulation setup"
   ]
  },
  {
   "cell_type": "code",
   "execution_count": 2,
   "metadata": {},
   "outputs": [],
   "source": [
    "from tqdm import tqdm\n",
    "def mc_sim(qcode: hgp, error_rate: float = 0.1, runs: int=10, seed: int = 99, DECODER = None)->float:\n",
    "\n",
    "    hx: scipy.sparse.csr_matrix = scipy.sparse.csr_matrix(qcode.hx)\n",
    "    lx: scipy.sparse.csr_matrix = scipy.sparse.csr_matrix(qcode.lx)\n",
    "    error: np.ndarray = np.zeros(hx.shape[1]).astype(np.uint8)\n",
    "\n",
    "    decoding_success = 0\n",
    "    np.random.seed(seed)\n",
    "    for _ in tqdm(range(runs)):\n",
    "\n",
    "        #generate error\n",
    "        for i in range(hx.shape[0]):\n",
    "            rand = np.random.random()\n",
    "            if rand < error_rate:\n",
    "                error[i] = 1\n",
    "            else:\n",
    "                error[i] = 0\n",
    "\n",
    "        # print(hx)\n",
    "        # print(error)\n",
    "        syndrome = hx@error%2 #calculate syndrome\n",
    " \n",
    "        decoding = DECODER.decode(syndrome) #decode syndrome\n",
    "\n",
    "        residual_error = (error + decoding) % 2\n",
    "\n",
    "        #check whether residual error is in the codespace\n",
    "        if np.any(hx@residual_error%2): continue\n",
    "        if not np.any(lx@residual_error%2):\n",
    "            decoding_success+=1\n",
    "\n",
    "    logical_error_rate = 1.0 - decoding_success/runs\n",
    "    return logical_error_rate"
   ]
  },
  {
   "attachments": {},
   "cell_type": "markdown",
   "metadata": {},
   "source": [
    "### Union-find decoding"
   ]
  },
  {
   "cell_type": "code",
   "execution_count": 3,
   "metadata": {},
   "outputs": [
    {
     "name": "stderr",
     "output_type": "stream",
     "text": [
      "100%|██████████| 10000/10000 [00:02<00:00, 4564.71it/s]"
     ]
    },
    {
     "name": "stdout",
     "output_type": "stream",
     "text": [
      "Logical error rate: 0.0031999999999999806\n"
     ]
    },
    {
     "name": "stderr",
     "output_type": "stream",
     "text": [
      "\n"
     ]
    }
   ],
   "source": [
    "from ldpc2.uf_decoder import uf_decoder\n",
    "\n",
    "DECODER = uf_decoder(toric_code.hx)\n",
    "logical_error_rate = mc_sim(toric_code,error_rate = 0.07,runs=10000,seed=42, DECODER=DECODER)\n",
    "print(f\"Logical error rate: {logical_error_rate}\")"
   ]
  },
  {
   "attachments": {},
   "cell_type": "markdown",
   "metadata": {},
   "source": [
    "### BP decoding\n"
   ]
  },
  {
   "cell_type": "code",
   "execution_count": 4,
   "metadata": {},
   "outputs": [
    {
     "name": "stderr",
     "output_type": "stream",
     "text": [
      "100%|██████████| 10000/10000 [00:06<00:00, 1506.12it/s]"
     ]
    },
    {
     "name": "stdout",
     "output_type": "stream",
     "text": [
      "Logical error rate: 0.13319999999999999\n"
     ]
    },
    {
     "name": "stderr",
     "output_type": "stream",
     "text": [
      "\n"
     ]
    }
   ],
   "source": [
    "\n",
    "from ldpc2.bp_decoder import bp_decoder\n",
    "\n",
    "DECODER = bp_decoder(toric_code.hx, error_rate = 0.07, max_iter = 50, schedule = \"serial\",bp_method=\"product_sum\")\n",
    "logical_error_rate = mc_sim(toric_code,error_rate = 0.07,runs=10000,seed=42, DECODER=DECODER)\n",
    "print(f\"Logical error rate: {logical_error_rate}\")"
   ]
  },
  {
   "attachments": {},
   "cell_type": "markdown",
   "metadata": {},
   "source": [
    "### BP+OSD Decoding"
   ]
  },
  {
   "cell_type": "code",
   "execution_count": 5,
   "metadata": {},
   "outputs": [
    {
     "ename": "TypeError",
     "evalue": "attribute name must be string, not '��������xι\u0002'",
     "output_type": "error",
     "traceback": [
      "\u001b[0;31m---------------------------------------------------------------------------\u001b[0m",
      "\u001b[0;31mTypeError\u001b[0m                                 Traceback (most recent call last)",
      "Cell \u001b[0;32mIn[5], line 3\u001b[0m\n\u001b[1;32m      1\u001b[0m \u001b[39mfrom\u001b[39;00m \u001b[39mldpc2\u001b[39;00m\u001b[39m.\u001b[39;00m\u001b[39mbposd_decoder\u001b[39;00m \u001b[39mimport\u001b[39;00m bposd_decoder\n\u001b[0;32m----> 3\u001b[0m DECODER \u001b[39m=\u001b[39m bposd_decoder(toric_code\u001b[39m.\u001b[39;49mhx, error_rate \u001b[39m=\u001b[39;49m \u001b[39m0.07\u001b[39;49m, max_iter \u001b[39m=\u001b[39;49m \u001b[39m20\u001b[39;49m, schedule \u001b[39m=\u001b[39;49m \u001b[39m\"\u001b[39;49m\u001b[39mserial\u001b[39;49m\u001b[39m\"\u001b[39;49m,bp_method\u001b[39m=\u001b[39;49m\u001b[39m\"\u001b[39;49m\u001b[39mproduct_sum\u001b[39;49m\u001b[39m\"\u001b[39;49m,osd_method \u001b[39m=\u001b[39;49m \u001b[39m\"\u001b[39;49m\u001b[39mosd_cs\u001b[39;49m\u001b[39m\"\u001b[39;49m, osd_order \u001b[39m=\u001b[39;49m \u001b[39m40\u001b[39;49m)\n\u001b[1;32m      4\u001b[0m logical_error_rate \u001b[39m=\u001b[39m mc_sim(toric_code,error_rate \u001b[39m=\u001b[39m \u001b[39m0.07\u001b[39m,runs\u001b[39m=\u001b[39m\u001b[39m10000\u001b[39m,seed\u001b[39m=\u001b[39m\u001b[39m42\u001b[39m, DECODER\u001b[39m=\u001b[39mDECODER)\n\u001b[1;32m      5\u001b[0m \u001b[39mprint\u001b[39m(\u001b[39mf\u001b[39m\u001b[39m\"\u001b[39m\u001b[39mLogical error rate: \u001b[39m\u001b[39m{\u001b[39;00mlogical_error_rate\u001b[39m}\u001b[39;00m\u001b[39m\"\u001b[39m)\n",
      "File \u001b[0;32m~/github/ldpc2/src/ldpc2/bposd_decoder/_bposd_decoder.pyx:27\u001b[0m, in \u001b[0;36mldpc2.bposd_decoder._bposd_decoder.bposd_decoder.__cinit__\u001b[0;34m()\u001b[0m\n\u001b[1;32m     25\u001b[0m self.osd_method=int(osd_method)\n\u001b[1;32m     26\u001b[0m \n\u001b[0;32m---> 27\u001b[0m self.osd = new osd_decoder_cpp(self.pcm,self.osd_method,self.osd_order,self.error_channel)\n\u001b[1;32m     28\u001b[0m self.MEMORY_ALLOCATED=True\n\u001b[1;32m     29\u001b[0m \n",
      "\u001b[0;31mTypeError\u001b[0m: attribute name must be string, not '��������xι\u0002'"
     ]
    }
   ],
   "source": [
    "from ldpc2.bposd_decoder import bposd_decoder\n",
    "\n",
    "DECODER = bposd_decoder(toric_code.hx, error_rate = 0.07, max_iter = 20, schedule = \"serial\",bp_method=\"product_sum\",osd_method = \"osd_cs\", osd_order = 40)\n",
    "logical_error_rate = mc_sim(toric_code,error_rate = 0.07,runs=10000,seed=42, DECODER=DECODER)\n",
    "print(f\"Logical error rate: {logical_error_rate}\")"
   ]
  },
  {
   "attachments": {},
   "cell_type": "markdown",
   "metadata": {},
   "source": [
    "### BP+Union find (Belief find)\n",
    "\n"
   ]
  },
  {
   "cell_type": "code",
   "execution_count": null,
   "metadata": {},
   "outputs": [],
   "source": [
    "# from ldpc2.bf_decoder import bf_decoder\n",
    "\n",
    "# DECODER = bf_decoder(toric_code.hx, error_rate = 0.07, max_iter = 20, schedule = \"serial\",bp_method=\"product_sum\")\n",
    "# logical_error_rate = mc_sim(toric_code,error_rate = 0.07,runs=10000,seed=42, DECODER=DECODER)\n",
    "# print(f\"Logical error rate: {logical_error_rate}\")"
   ]
  },
  {
   "cell_type": "code",
   "execution_count": null,
   "metadata": {},
   "outputs": [],
   "source": []
  }
 ],
 "metadata": {
  "kernelspec": {
   "display_name": "mbp",
   "language": "python",
   "name": "python3"
  },
  "language_info": {
   "codemirror_mode": {
    "name": "ipython",
    "version": 3
   },
   "file_extension": ".py",
   "mimetype": "text/x-python",
   "name": "python",
   "nbconvert_exporter": "python",
   "pygments_lexer": "ipython3",
   "version": "3.10.6"
  },
  "orig_nbformat": 4,
  "vscode": {
   "interpreter": {
    "hash": "3be50ceb790fac7bab31b684ceb455cac26afccc7a073958fa20e012b27c7e78"
   }
  }
 },
 "nbformat": 4,
 "nbformat_minor": 2
}
